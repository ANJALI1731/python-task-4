{
 "cells": [
  {
   "cell_type": "code",
   "execution_count": 1,
   "id": "0082dff5-2b3c-490a-a9f6-90d49891ca56",
   "metadata": {},
   "outputs": [
    {
     "name": "stdout",
     "output_type": "stream",
     "text": [
      "✅ Prediction: Benign (non-cancerous)\n"
     ]
    }
   ],
   "source": [
    "# Step 1: Import Libraries\n",
    "import pandas as pd\n",
    "from sklearn.datasets import load_breast_cancer\n",
    "from sklearn.model_selection import train_test_split\n",
    "from sklearn.ensemble import RandomForestClassifier\n",
    "\n",
    "# Step 2: Load Dataset\n",
    "cancer = load_breast_cancer()\n",
    "df = pd.DataFrame(data=cancer.data, columns=cancer.feature_names)\n",
    "df['target'] = cancer.target\n",
    "\n",
    "# Step 3: Split Data\n",
    "X = df.drop('target', axis=1)\n",
    "y = df['target']\n",
    "X_train, X_test, y_train, y_test = train_test_split(X, y, test_size=0.2, random_state=42)\n",
    "\n",
    "# Step 4: Train Model\n",
    "model = RandomForestClassifier()\n",
    "model.fit(X_train, y_train)\n",
    "\n",
    "# Step 5: Make a Sample Prediction\n",
    "# Select any one test sample (you can change the index to test others)\n",
    "new_tumor = [X_test.iloc[0].values]\n",
    "\n",
    "# Get column names\n",
    "feature_names = df.columns[:-1]  # all except 'target'\n",
    "\n",
    "# Convert to DataFrame\n",
    "new_tumor_df = pd.DataFrame(new_tumor, columns=feature_names)\n",
    "\n",
    "# Predict\n",
    "prediction = model.predict(new_tumor_df)\n",
    "\n",
    "# Output Result\n",
    "if prediction[0] == 1:\n",
    "    print(\"✅ Prediction: Benign (non-cancerous)\")\n",
    "else:\n",
    "    print(\"⚠️ Prediction: Malignant (cancerous)\")\n"
   ]
  },
  {
   "cell_type": "code",
   "execution_count": null,
   "id": "685c1237-5a6c-46f0-8a7f-32ae3f986985",
   "metadata": {},
   "outputs": [],
   "source": []
  }
 ],
 "metadata": {
  "kernelspec": {
   "display_name": "anaconda-2024.02-py310",
   "language": "python",
   "name": "conda-env-anaconda-2024.02-py310-py"
  },
  "language_info": {
   "codemirror_mode": {
    "name": "ipython",
    "version": 3
   },
   "file_extension": ".py",
   "mimetype": "text/x-python",
   "name": "python",
   "nbconvert_exporter": "python",
   "pygments_lexer": "ipython3",
   "version": "3.10.14"
  }
 },
 "nbformat": 4,
 "nbformat_minor": 5
}
